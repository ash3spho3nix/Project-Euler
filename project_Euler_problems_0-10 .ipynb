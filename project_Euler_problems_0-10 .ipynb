{
 "cells": [
  {
   "cell_type": "code",
   "execution_count": 25,
   "metadata": {},
   "outputs": [
    {
     "name": "stdout",
     "output_type": "stream",
     "text": [
      "233168\n"
     ]
    }
   ],
   "source": [
    "# Problem 1\n",
    "# factor of 3 and 5 : Project Euler\n",
    "import numpy as np\n",
    "x=3\n",
    "y=5\n",
    "z=1000\n",
    "d=np.minimum(x,y)\n",
    "sum_n=0\n",
    "for i in range(d,z):\n",
    "    if((i%x==0) or (i%y==0)):\n",
    "        sum_n+=i\n",
    "print(sum_n)\n"
   ]
  },
  {
   "cell_type": "code",
   "execution_count": 30,
   "metadata": {},
   "outputs": [
    {
     "name": "stdout",
     "output_type": "stream",
     "text": [
      "1\n",
      "2\n",
      "3\n",
      "5\n",
      "8\n",
      "13\n",
      "21\n",
      "34\n",
      "55\n",
      "89\n",
      "143\n"
     ]
    }
   ],
   "source": [
    "# Problem 2 \n",
    "# Even Fibonacci numbers :Project Euler\n",
    "# recursive solution 1(Bad)\n",
    "def fibo(x):\n",
    "    if(x==0):\n",
    "        l=1\n",
    "    elif(x==1):\n",
    "        l=2\n",
    "    else:\n",
    "        l=fibo(x-1)+fibo(x-2)\n",
    "    return l\n",
    "sum_n=0\n",
    "for i in range(0,10):\n",
    "    print(fibo(i))\n",
    "    if((i+1)%2==0):\n",
    "        sum_n+=fibo(i)\n",
    "print(sum_n)"
   ]
  },
  {
   "cell_type": "code",
   "execution_count": 2,
   "metadata": {},
   "outputs": [
    {
     "name": "stdout",
     "output_type": "stream",
     "text": [
      "4613732\n",
      "5702886\n"
     ]
    }
   ],
   "source": [
    "# Problem 2\n",
    "# Even Fibonacci numbers :Project Euler\n",
    "# solution 2 based on golden ratio (Good)\n",
    "import numpy as np\n",
    "def fibo(n):\n",
    "    a=(1+np.sqrt(5))/2\n",
    "    b=(1-np.sqrt(5))/2\n",
    "    return int((a**n-b**n)/(np.sqrt(5)))\n",
    "\n",
    "sum_n=0\n",
    "sum_n1=0\n",
    "k=0\n",
    "for i in range(2,42):\n",
    "    k=k+1\n",
    "    n=fibo(i)\n",
    "    z=int(n/(4*(10**6)))\n",
    "#    print(str(k),n,z)\n",
    "    if(n%2==0):\n",
    "        if(z<1):\n",
    "            sum_n1+=n\n",
    "#            print(str(k),n,z)\n",
    "        else:\n",
    "            break;\n",
    "    if(k%2==0):\n",
    "        if(z<1):\n",
    "            sum_n+=n\n",
    "#            print(str(k),n,z)\n",
    "        else:\n",
    "            break;\n",
    "print(sum_n1)        \n",
    "print(sum_n)"
   ]
  },
  {
   "cell_type": "code",
   "execution_count": 3,
   "metadata": {},
   "outputs": [
    {
     "name": "stdout",
     "output_type": "stream",
     "text": [
      "6857\n"
     ]
    }
   ],
   "source": [
    "# Problem 3\n",
    "# Largest prime factor\n",
    "import math\n",
    "import numpy as np\n",
    "def primeFactors(n): \n",
    "    l=[]  \n",
    "    # Print the number of two's that divide n \n",
    "    while n % 2 == 0: \n",
    "        l.append(2), \n",
    "        n = n / 2\n",
    "    # n must be odd at this point \n",
    "    # so a skip of 2 ( i = i + 2) can be used \n",
    "    for i in range(3,int(math.sqrt(n))+1,2): \n",
    "        # while i divides n , print i ad divide n \n",
    "        while n % i== 0: \n",
    "            l.append(i), \n",
    "            n = n / i \n",
    "              \n",
    "    # Condition if n is a prime \n",
    "    # number greater than 2 \n",
    "    if n > 2: \n",
    "        l.append(n)\n",
    "    return l\n",
    "x=primeFactors(600851475143)\n",
    "print(np.max(x))"
   ]
  },
  {
   "cell_type": "code",
   "execution_count": 125,
   "metadata": {},
   "outputs": [
    {
     "name": "stdout",
     "output_type": "stream",
     "text": [
      "906609\n",
      "906609 913 993\n"
     ]
    }
   ],
   "source": [
    "# Problem 4\n",
    "# Largest palindrome product\n",
    "list2=[]\n",
    "list0=[]\n",
    "list1=[]\n",
    "for i in range(100,1000):\n",
    "    for j in range(100,1000):\n",
    "        num=i*j\n",
    "        num_str=str(num)\n",
    "#        print(num)\n",
    "        k=0\n",
    "        for l in range(0,int(len(num_str)/2)):\n",
    "#            print(l,int(len(num_str)))\n",
    "            if(num_str[l]==num_str[len(num_str)-l-1]):\n",
    "                k=k+1\n",
    "#        print(k)\n",
    "        if(k==len(num_str)/2):\n",
    "            list1.append(num)\n",
    "            list0.append(j)\n",
    "            list2.append(i)\n",
    "            \n",
    "print(np.max(list1))\n",
    "print(list1[len(list1)-3],list0[len(list1)-3],list2[len(list1)-3])\n"
   ]
  },
  {
   "cell_type": "code",
   "execution_count": 4,
   "metadata": {},
   "outputs": [
    {
     "name": "stdout",
     "output_type": "stream",
     "text": [
      "232792560.0\n"
     ]
    }
   ],
   "source": [
    "# Proplem 5\n",
    "# Smallest multiple\n",
    "m=1\n",
    "l=[]\n",
    "for i in range(1,21):\n",
    "    l.append(i)\n",
    "#print(l)\n",
    "l1=[]\n",
    "l2=[4,7,12,21,42]\n",
    "def gcd(a,b):\n",
    "    while(b!=0):\n",
    "        t=b\n",
    "        b=a%b\n",
    "        a=t\n",
    "    return a\n",
    "x=1\n",
    "for i in range(1,len(l)):\n",
    "    x=(x*l[i])/gcd(x,l[i])\n",
    "print(x)"
   ]
  },
  {
   "cell_type": "code",
   "execution_count": 129,
   "metadata": {},
   "outputs": [
    {
     "name": "stdout",
     "output_type": "stream",
     "text": [
      "25164150 0.00026905487693085206\n"
     ]
    }
   ],
   "source": [
    "# Problem 6\n",
    "# Sum square difference\n",
    "from time import perf_counter\n",
    "t_start=perf_counter()\n",
    "sum_n=0\n",
    "sum_1=0\n",
    "for i in range(1,101):\n",
    "    sum_n+=i**2\n",
    "    sum_1+=i\n",
    "diff=sum_1**2 - sum_n\n",
    "t_stop=perf_counter()\n",
    "print(diff, t_stop-t_start)"
   ]
  },
  {
   "cell_type": "code",
   "execution_count": 5,
   "metadata": {},
   "outputs": [
    {
     "name": "stdout",
     "output_type": "stream",
     "text": [
      "10006 104743 13\n"
     ]
    }
   ],
   "source": [
    "# Problem 7 : 10001st prime\n",
    "# The sieve of Eratosthenes\n",
    "N=104800\n",
    "l=[]\n",
    "A=[]\n",
    "B=[]\n",
    "for i in range(0,N+1):\n",
    "    A.append(1)\n",
    "    B.append(i)\n",
    "\n",
    "for m in range(2,int(np.sqrt(N))):\n",
    "#    print(A[m-2])\n",
    "    if(A[m]==1):\n",
    "        j=1\n",
    "#        print(str(m),'v')\n",
    "        n=m\n",
    "        while(n<N):\n",
    "            A[m+j*m]=0\n",
    "            j=j+1\n",
    "            n=m+j*m\n",
    "#            print(str(n),'n')\n",
    "\n",
    "for k in range(2,len(A)-1):\n",
    "    if(A[k]==1):\n",
    "        l.append(B[k])\n",
    "print(len(l),l[10001-1],l[6-1])"
   ]
  },
  {
   "cell_type": "code",
   "execution_count": 56,
   "metadata": {},
   "outputs": [
    {
     "name": "stdout",
     "output_type": "stream",
     "text": [
      "5832\n",
      "23514624000\n"
     ]
    }
   ],
   "source": [
    "# Problem 8\n",
    "# Largest product in a series\n",
    "N='7316717653133062491922511967442657474235534919493496983520312774506326239578318016984801869478851843858615607891129494954595017379583319528532088055111254069874715852386305071569329096329522744304355766896648950445244523161731856403098711121722383113622298934233803081353362766142828064444866452387493035890729629049156044077239071381051585930796086670172427121883998797908792274921901699720888093776657273330010533678812202354218097512545405947522435258490771167055601360483958644670632441572215539753697817977846174064955149290862569321978468622482839722413756570560574902614079729686524145351004748216637048440319989000889524345065854122758866688116427171479924442928230863465674813919123162824586178664583591245665294765456828489128831426076900422421902267105562632111110937054421750694165896040807198403850962455444362981230987879927244284909188845801561660979191338754992005240636899125607176060588611646710940507754100225698315520005593572972571636269561882670428252483600823257530420752963450'\n",
    "\n",
    "def greatest_product(N,n):\n",
    "    len_num=len(N)\n",
    "    old_product=1\n",
    "    for i in range(0,len_num-n):\n",
    "        product=1\n",
    "        for j in range(0,n):\n",
    "            product*=int(N[i+j])\n",
    "        if(product<=old_product):\n",
    "            product=old_product\n",
    "        else:\n",
    "            old_product=product\n",
    "    return product\n",
    "\n",
    "product_4_digit=greatest_product(N,4)\n",
    "print(product_4_digit) #test\n",
    "\n",
    "print(greatest_product(N,13))"
   ]
  },
  {
   "cell_type": "code",
   "execution_count": 57,
   "metadata": {},
   "outputs": [
    {
     "name": "stdout",
     "output_type": "stream",
     "text": [
      "425 200 375\n",
      "product : 31875000\n"
     ]
    }
   ],
   "source": [
    "# Problem 9\n",
    "# Special Pythagorean triplet a+b+c=1000\n",
    "\n",
    "N=2000\n",
    "for i1 in range(1,N):\n",
    "    i=N-i1\n",
    "    for j in range(1,i):\n",
    "        if((i**2==(j**2+(1000-(j+i))**2)) & ((1000-(j+i))>0)):\n",
    "            print(i,j,(1000-(j+i)))\n",
    "            print('product :',str(i*j*(1000-(j+i))))\n",
    "            break\n"
   ]
  },
  {
   "cell_type": "code",
   "execution_count": 34,
   "metadata": {},
   "outputs": [
    {
     "name": "stdout",
     "output_type": "stream",
     "text": [
      "1999993 142913828922\n"
     ]
    }
   ],
   "source": [
    "# Problem 10\n",
    "# Summation of primes\n",
    "# sieve of Eratosthenes again used(Thinking to make it a function for later use)\n",
    "N=2000100\n",
    "l=[]\n",
    "A=[]\n",
    "B=[]\n",
    "for i in range(0,N+1):\n",
    "    A.append(1)\n",
    "    B.append(i)\n",
    "\n",
    "for m in range(2,int(np.sqrt(N))):\n",
    "#    print(A[m-2])\n",
    "    if(A[m]==1):\n",
    "        j=1\n",
    "#        print(str(m),'v')\n",
    "        n=m\n",
    "        while(n<N):\n",
    "            A[m+j*m]=0\n",
    "            j=j+1\n",
    "            n=m+j*m\n",
    "#            print(str(n),'n')\n",
    "        \n",
    "sum_n=0\n",
    "for k in range(2,len(A)-1):\n",
    "    if((A[k]==1) & (B[k]<2000000)):\n",
    "        l.append(B[k])\n",
    "        sum_n+=B[k]\n",
    "print(l[len(l)-1],sum_n)"
   ]
  }
 ],
 "metadata": {
  "kernelspec": {
   "display_name": "Python 3",
   "language": "python",
   "name": "python3"
  },
  "language_info": {
   "codemirror_mode": {
    "name": "ipython",
    "version": 3
   },
   "file_extension": ".py",
   "mimetype": "text/x-python",
   "name": "python",
   "nbconvert_exporter": "python",
   "pygments_lexer": "ipython3",
   "version": "3.6.5"
  }
 },
 "nbformat": 4,
 "nbformat_minor": 2
}
